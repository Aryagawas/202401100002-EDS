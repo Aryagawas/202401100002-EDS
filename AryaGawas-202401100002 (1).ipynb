{
 "cells": [
  {
   "cell_type": "markdown",
   "id": "d199cbc6-3649-4a63-bea0-427c09142d22",
   "metadata": {},
   "source": [
    "# ARYA GAWAS\n",
    "# PRN : 202401100002\n",
    "# Roll No :Cs5-02\n",
    "## Dataset : - Sales(Dmart Sales)"
   ]
  },
  {
   "cell_type": "code",
   "execution_count": 5,
   "id": "30ab7e3b-6fde-47f6-83c3-248b33cf0875",
   "metadata": {},
   "outputs": [
    {
     "data": {
      "text/html": [
       "<div>\n",
       "<style scoped>\n",
       "    .dataframe tbody tr th:only-of-type {\n",
       "        vertical-align: middle;\n",
       "    }\n",
       "\n",
       "    .dataframe tbody tr th {\n",
       "        vertical-align: top;\n",
       "    }\n",
       "\n",
       "    .dataframe thead th {\n",
       "        text-align: right;\n",
       "    }\n",
       "</style>\n",
       "<table border=\"1\" class=\"dataframe\">\n",
       "  <thead>\n",
       "    <tr style=\"text-align: right;\">\n",
       "      <th></th>\n",
       "      <th>Order ID</th>\n",
       "      <th>Customer Name</th>\n",
       "      <th>Category</th>\n",
       "      <th>Sub Category</th>\n",
       "      <th>City</th>\n",
       "      <th>Region</th>\n",
       "      <th>Sales</th>\n",
       "      <th>Discount</th>\n",
       "      <th>Profit</th>\n",
       "      <th>State</th>\n",
       "    </tr>\n",
       "  </thead>\n",
       "  <tbody>\n",
       "    <tr>\n",
       "      <th>0</th>\n",
       "      <td>OD1</td>\n",
       "      <td>Harish</td>\n",
       "      <td>Oil &amp; Masala</td>\n",
       "      <td>Masalas</td>\n",
       "      <td>Vellore</td>\n",
       "      <td>North</td>\n",
       "      <td>1254</td>\n",
       "      <td>0.12</td>\n",
       "      <td>401.28</td>\n",
       "      <td>Tamil Nadu</td>\n",
       "    </tr>\n",
       "    <tr>\n",
       "      <th>1</th>\n",
       "      <td>OD2</td>\n",
       "      <td>Sudha</td>\n",
       "      <td>Beverages</td>\n",
       "      <td>Health Drinks</td>\n",
       "      <td>Krishnagiri</td>\n",
       "      <td>South</td>\n",
       "      <td>749</td>\n",
       "      <td>0.18</td>\n",
       "      <td>149.80</td>\n",
       "      <td>Tamil Nadu</td>\n",
       "    </tr>\n",
       "    <tr>\n",
       "      <th>2</th>\n",
       "      <td>OD3</td>\n",
       "      <td>Hussain</td>\n",
       "      <td>Food Grains</td>\n",
       "      <td>Atta &amp; Flour</td>\n",
       "      <td>Perambalur</td>\n",
       "      <td>West</td>\n",
       "      <td>2360</td>\n",
       "      <td>0.21</td>\n",
       "      <td>165.20</td>\n",
       "      <td>Tamil Nadu</td>\n",
       "    </tr>\n",
       "    <tr>\n",
       "      <th>3</th>\n",
       "      <td>OD4</td>\n",
       "      <td>Jackson</td>\n",
       "      <td>Fruits &amp; Veggies</td>\n",
       "      <td>Fresh Vegetables</td>\n",
       "      <td>Dharmapuri</td>\n",
       "      <td>South</td>\n",
       "      <td>896</td>\n",
       "      <td>0.25</td>\n",
       "      <td>89.60</td>\n",
       "      <td>Tamil Nadu</td>\n",
       "    </tr>\n",
       "    <tr>\n",
       "      <th>4</th>\n",
       "      <td>OD5</td>\n",
       "      <td>Ridhesh</td>\n",
       "      <td>Food Grains</td>\n",
       "      <td>Organic Staples</td>\n",
       "      <td>Ooty</td>\n",
       "      <td>South</td>\n",
       "      <td>2355</td>\n",
       "      <td>0.26</td>\n",
       "      <td>918.45</td>\n",
       "      <td>Tamil Nadu</td>\n",
       "    </tr>\n",
       "    <tr>\n",
       "      <th>5</th>\n",
       "      <td>OD6</td>\n",
       "      <td>Adavan</td>\n",
       "      <td>Food Grains</td>\n",
       "      <td>Organic Staples</td>\n",
       "      <td>Dharmapuri</td>\n",
       "      <td>West</td>\n",
       "      <td>2305</td>\n",
       "      <td>0.26</td>\n",
       "      <td>322.70</td>\n",
       "      <td>Tamil Nadu</td>\n",
       "    </tr>\n",
       "    <tr>\n",
       "      <th>6</th>\n",
       "      <td>OD7</td>\n",
       "      <td>Jonas</td>\n",
       "      <td>Fruits &amp; Veggies</td>\n",
       "      <td>Fresh Vegetables</td>\n",
       "      <td>Trichy</td>\n",
       "      <td>West</td>\n",
       "      <td>826</td>\n",
       "      <td>0.33</td>\n",
       "      <td>346.92</td>\n",
       "      <td>Tamil Nadu</td>\n",
       "    </tr>\n",
       "    <tr>\n",
       "      <th>7</th>\n",
       "      <td>OD8</td>\n",
       "      <td>Hafiz</td>\n",
       "      <td>Fruits &amp; Veggies</td>\n",
       "      <td>Fresh Fruits</td>\n",
       "      <td>Ramanadhapuram</td>\n",
       "      <td>West</td>\n",
       "      <td>1847</td>\n",
       "      <td>0.32</td>\n",
       "      <td>147.76</td>\n",
       "      <td>Tamil Nadu</td>\n",
       "    </tr>\n",
       "    <tr>\n",
       "      <th>8</th>\n",
       "      <td>OD9</td>\n",
       "      <td>Hafiz</td>\n",
       "      <td>Bakery</td>\n",
       "      <td>Biscuits</td>\n",
       "      <td>Tirunelveli</td>\n",
       "      <td>West</td>\n",
       "      <td>791</td>\n",
       "      <td>0.23</td>\n",
       "      <td>181.93</td>\n",
       "      <td>Tamil Nadu</td>\n",
       "    </tr>\n",
       "    <tr>\n",
       "      <th>9</th>\n",
       "      <td>OD10</td>\n",
       "      <td>Krithika</td>\n",
       "      <td>Bakery</td>\n",
       "      <td>Cakes</td>\n",
       "      <td>Chennai</td>\n",
       "      <td>West</td>\n",
       "      <td>1795</td>\n",
       "      <td>0.27</td>\n",
       "      <td>484.65</td>\n",
       "      <td>Tamil Nadu</td>\n",
       "    </tr>\n",
       "    <tr>\n",
       "      <th>10</th>\n",
       "      <td>OD11</td>\n",
       "      <td>Ganesh</td>\n",
       "      <td>Snacks</td>\n",
       "      <td>Chocolates</td>\n",
       "      <td>Karur</td>\n",
       "      <td>West</td>\n",
       "      <td>1903</td>\n",
       "      <td>0.13</td>\n",
       "      <td>437.69</td>\n",
       "      <td>Tamil Nadu</td>\n",
       "    </tr>\n",
       "    <tr>\n",
       "      <th>11</th>\n",
       "      <td>OD12</td>\n",
       "      <td>Yadav</td>\n",
       "      <td>Eggs, Meat &amp; Fish</td>\n",
       "      <td>Eggs</td>\n",
       "      <td>Namakkal</td>\n",
       "      <td>West</td>\n",
       "      <td>701</td>\n",
       "      <td>0.10</td>\n",
       "      <td>308.44</td>\n",
       "      <td>Tamil Nadu</td>\n",
       "    </tr>\n",
       "    <tr>\n",
       "      <th>12</th>\n",
       "      <td>OD13</td>\n",
       "      <td>Sharon</td>\n",
       "      <td>Snacks</td>\n",
       "      <td>Cookies</td>\n",
       "      <td>Dindigul</td>\n",
       "      <td>South</td>\n",
       "      <td>1659</td>\n",
       "      <td>0.19</td>\n",
       "      <td>315.21</td>\n",
       "      <td>Tamil Nadu</td>\n",
       "    </tr>\n",
       "    <tr>\n",
       "      <th>13</th>\n",
       "      <td>OD14</td>\n",
       "      <td>Peer</td>\n",
       "      <td>Fruits &amp; Veggies</td>\n",
       "      <td>Fresh Vegetables</td>\n",
       "      <td>Kanyakumari</td>\n",
       "      <td>West</td>\n",
       "      <td>1277</td>\n",
       "      <td>0.25</td>\n",
       "      <td>63.85</td>\n",
       "      <td>Tamil Nadu</td>\n",
       "    </tr>\n",
       "    <tr>\n",
       "      <th>14</th>\n",
       "      <td>OD15</td>\n",
       "      <td>Sundar</td>\n",
       "      <td>Eggs, Meat &amp; Fish</td>\n",
       "      <td>Chicken</td>\n",
       "      <td>Kanyakumari</td>\n",
       "      <td>Central</td>\n",
       "      <td>831</td>\n",
       "      <td>0.22</td>\n",
       "      <td>207.75</td>\n",
       "      <td>Tamil Nadu</td>\n",
       "    </tr>\n",
       "    <tr>\n",
       "      <th>15</th>\n",
       "      <td>OD16</td>\n",
       "      <td>Ramesh</td>\n",
       "      <td>Oil &amp; Masala</td>\n",
       "      <td>Edible Oil &amp; Ghee</td>\n",
       "      <td>Krishnagiri</td>\n",
       "      <td>Central</td>\n",
       "      <td>1440</td>\n",
       "      <td>0.11</td>\n",
       "      <td>100.80</td>\n",
       "      <td>Tamil Nadu</td>\n",
       "    </tr>\n",
       "    <tr>\n",
       "      <th>16</th>\n",
       "      <td>OD17</td>\n",
       "      <td>Alan</td>\n",
       "      <td>Bakery</td>\n",
       "      <td>Cakes</td>\n",
       "      <td>Dharmapuri</td>\n",
       "      <td>Central</td>\n",
       "      <td>1678</td>\n",
       "      <td>0.28</td>\n",
       "      <td>318.82</td>\n",
       "      <td>Tamil Nadu</td>\n",
       "    </tr>\n",
       "    <tr>\n",
       "      <th>17</th>\n",
       "      <td>OD18</td>\n",
       "      <td>Arutra</td>\n",
       "      <td>Beverages</td>\n",
       "      <td>Health Drinks</td>\n",
       "      <td>Bodi</td>\n",
       "      <td>West</td>\n",
       "      <td>1617</td>\n",
       "      <td>0.19</td>\n",
       "      <td>113.19</td>\n",
       "      <td>Tamil Nadu</td>\n",
       "    </tr>\n",
       "    <tr>\n",
       "      <th>18</th>\n",
       "      <td>OD19</td>\n",
       "      <td>Haseena</td>\n",
       "      <td>Eggs, Meat &amp; Fish</td>\n",
       "      <td>Mutton</td>\n",
       "      <td>Tenkasi</td>\n",
       "      <td>West</td>\n",
       "      <td>1757</td>\n",
       "      <td>0.35</td>\n",
       "      <td>386.54</td>\n",
       "      <td>Tamil Nadu</td>\n",
       "    </tr>\n",
       "    <tr>\n",
       "      <th>19</th>\n",
       "      <td>OD20</td>\n",
       "      <td>Verma</td>\n",
       "      <td>Beverages</td>\n",
       "      <td>Soft Drinks</td>\n",
       "      <td>Kanyakumari</td>\n",
       "      <td>West</td>\n",
       "      <td>692</td>\n",
       "      <td>0.29</td>\n",
       "      <td>159.16</td>\n",
       "      <td>Tamil Nadu</td>\n",
       "    </tr>\n",
       "    <tr>\n",
       "      <th>20</th>\n",
       "      <td>OD21</td>\n",
       "      <td>Hafiz</td>\n",
       "      <td>Beverages</td>\n",
       "      <td>Health Drinks</td>\n",
       "      <td>Vellore</td>\n",
       "      <td>West</td>\n",
       "      <td>522</td>\n",
       "      <td>0.19</td>\n",
       "      <td>208.80</td>\n",
       "      <td>Tamil Nadu</td>\n",
       "    </tr>\n",
       "    <tr>\n",
       "      <th>21</th>\n",
       "      <td>OD22</td>\n",
       "      <td>Alan</td>\n",
       "      <td>Food Grains</td>\n",
       "      <td>Dals &amp; Pulses</td>\n",
       "      <td>Karur</td>\n",
       "      <td>Central</td>\n",
       "      <td>948</td>\n",
       "      <td>0.13</td>\n",
       "      <td>47.40</td>\n",
       "      <td>Tamil Nadu</td>\n",
       "    </tr>\n",
       "    <tr>\n",
       "      <th>22</th>\n",
       "      <td>OD23</td>\n",
       "      <td>Haseena</td>\n",
       "      <td>Beverages</td>\n",
       "      <td>Soft Drinks</td>\n",
       "      <td>Krishnagiri</td>\n",
       "      <td>Central</td>\n",
       "      <td>707</td>\n",
       "      <td>0.34</td>\n",
       "      <td>148.47</td>\n",
       "      <td>Tamil Nadu</td>\n",
       "    </tr>\n",
       "    <tr>\n",
       "      <th>23</th>\n",
       "      <td>OD24</td>\n",
       "      <td>Alan</td>\n",
       "      <td>Fruits &amp; Veggies</td>\n",
       "      <td>Organic Vegetables</td>\n",
       "      <td>Tenkasi</td>\n",
       "      <td>East</td>\n",
       "      <td>969</td>\n",
       "      <td>0.29</td>\n",
       "      <td>77.52</td>\n",
       "      <td>Tamil Nadu</td>\n",
       "    </tr>\n",
       "    <tr>\n",
       "      <th>24</th>\n",
       "      <td>OD25</td>\n",
       "      <td>Sharon</td>\n",
       "      <td>Eggs, Meat &amp; Fish</td>\n",
       "      <td>Eggs</td>\n",
       "      <td>Ooty</td>\n",
       "      <td>West</td>\n",
       "      <td>1100</td>\n",
       "      <td>0.11</td>\n",
       "      <td>495.00</td>\n",
       "      <td>Tamil Nadu</td>\n",
       "    </tr>\n",
       "    <tr>\n",
       "      <th>25</th>\n",
       "      <td>OD26</td>\n",
       "      <td>Krithika</td>\n",
       "      <td>Snacks</td>\n",
       "      <td>Chocolates</td>\n",
       "      <td>Tirunelveli</td>\n",
       "      <td>West</td>\n",
       "      <td>2022</td>\n",
       "      <td>0.11</td>\n",
       "      <td>202.20</td>\n",
       "      <td>Tamil Nadu</td>\n",
       "    </tr>\n",
       "    <tr>\n",
       "      <th>26</th>\n",
       "      <td>OD27</td>\n",
       "      <td>Muneer</td>\n",
       "      <td>Snacks</td>\n",
       "      <td>Cookies</td>\n",
       "      <td>Trichy</td>\n",
       "      <td>West</td>\n",
       "      <td>541</td>\n",
       "      <td>0.12</td>\n",
       "      <td>43.28</td>\n",
       "      <td>Tamil Nadu</td>\n",
       "    </tr>\n",
       "    <tr>\n",
       "      <th>27</th>\n",
       "      <td>OD28</td>\n",
       "      <td>Jackson</td>\n",
       "      <td>Bakery</td>\n",
       "      <td>Biscuits</td>\n",
       "      <td>Viluppuram</td>\n",
       "      <td>East</td>\n",
       "      <td>979</td>\n",
       "      <td>0.22</td>\n",
       "      <td>401.39</td>\n",
       "      <td>Tamil Nadu</td>\n",
       "    </tr>\n",
       "  </tbody>\n",
       "</table>\n",
       "</div>"
      ],
      "text/plain": [
       "   Order ID Customer Name           Category        Sub Category  \\\n",
       "0       OD1        Harish       Oil & Masala             Masalas   \n",
       "1       OD2         Sudha          Beverages       Health Drinks   \n",
       "2       OD3       Hussain        Food Grains        Atta & Flour   \n",
       "3       OD4       Jackson   Fruits & Veggies    Fresh Vegetables   \n",
       "4       OD5       Ridhesh        Food Grains     Organic Staples   \n",
       "5       OD6        Adavan        Food Grains     Organic Staples   \n",
       "6       OD7         Jonas   Fruits & Veggies    Fresh Vegetables   \n",
       "7       OD8         Hafiz   Fruits & Veggies        Fresh Fruits   \n",
       "8       OD9         Hafiz             Bakery            Biscuits   \n",
       "9      OD10      Krithika             Bakery               Cakes   \n",
       "10     OD11        Ganesh             Snacks          Chocolates   \n",
       "11     OD12         Yadav  Eggs, Meat & Fish                Eggs   \n",
       "12     OD13        Sharon             Snacks             Cookies   \n",
       "13     OD14          Peer   Fruits & Veggies    Fresh Vegetables   \n",
       "14     OD15        Sundar  Eggs, Meat & Fish             Chicken   \n",
       "15     OD16        Ramesh       Oil & Masala   Edible Oil & Ghee   \n",
       "16     OD17          Alan             Bakery               Cakes   \n",
       "17     OD18        Arutra          Beverages       Health Drinks   \n",
       "18     OD19       Haseena  Eggs, Meat & Fish              Mutton   \n",
       "19     OD20         Verma          Beverages         Soft Drinks   \n",
       "20     OD21         Hafiz          Beverages       Health Drinks   \n",
       "21     OD22          Alan        Food Grains       Dals & Pulses   \n",
       "22     OD23       Haseena          Beverages         Soft Drinks   \n",
       "23     OD24          Alan   Fruits & Veggies  Organic Vegetables   \n",
       "24     OD25        Sharon  Eggs, Meat & Fish                Eggs   \n",
       "25     OD26      Krithika             Snacks          Chocolates   \n",
       "26     OD27        Muneer             Snacks             Cookies   \n",
       "27     OD28       Jackson             Bakery            Biscuits   \n",
       "\n",
       "              City   Region  Sales  Discount  Profit       State  \n",
       "0          Vellore    North   1254      0.12  401.28  Tamil Nadu  \n",
       "1      Krishnagiri    South    749      0.18  149.80  Tamil Nadu  \n",
       "2       Perambalur     West   2360      0.21  165.20  Tamil Nadu  \n",
       "3       Dharmapuri    South    896      0.25   89.60  Tamil Nadu  \n",
       "4             Ooty    South   2355      0.26  918.45  Tamil Nadu  \n",
       "5       Dharmapuri     West   2305      0.26  322.70  Tamil Nadu  \n",
       "6           Trichy     West    826      0.33  346.92  Tamil Nadu  \n",
       "7   Ramanadhapuram     West   1847      0.32  147.76  Tamil Nadu  \n",
       "8      Tirunelveli     West    791      0.23  181.93  Tamil Nadu  \n",
       "9          Chennai     West   1795      0.27  484.65  Tamil Nadu  \n",
       "10           Karur     West   1903      0.13  437.69  Tamil Nadu  \n",
       "11        Namakkal     West    701      0.10  308.44  Tamil Nadu  \n",
       "12        Dindigul    South   1659      0.19  315.21  Tamil Nadu  \n",
       "13     Kanyakumari     West   1277      0.25   63.85  Tamil Nadu  \n",
       "14     Kanyakumari  Central    831      0.22  207.75  Tamil Nadu  \n",
       "15     Krishnagiri  Central   1440      0.11  100.80  Tamil Nadu  \n",
       "16      Dharmapuri  Central   1678      0.28  318.82  Tamil Nadu  \n",
       "17            Bodi     West   1617      0.19  113.19  Tamil Nadu  \n",
       "18         Tenkasi     West   1757      0.35  386.54  Tamil Nadu  \n",
       "19     Kanyakumari     West    692      0.29  159.16  Tamil Nadu  \n",
       "20         Vellore     West    522      0.19  208.80  Tamil Nadu  \n",
       "21           Karur  Central    948      0.13   47.40  Tamil Nadu  \n",
       "22     Krishnagiri  Central    707      0.34  148.47  Tamil Nadu  \n",
       "23         Tenkasi     East    969      0.29   77.52  Tamil Nadu  \n",
       "24            Ooty     West   1100      0.11  495.00  Tamil Nadu  \n",
       "25     Tirunelveli     West   2022      0.11  202.20  Tamil Nadu  \n",
       "26          Trichy     West    541      0.12   43.28  Tamil Nadu  \n",
       "27      Viluppuram     East    979      0.22  401.39  Tamil Nadu  "
      ]
     },
     "execution_count": 5,
     "metadata": {},
     "output_type": "execute_result"
    }
   ],
   "source": [
    "import numpy as np \n",
    "import pandas as pd\n",
    "df = pd.read_csv('Dmart.csv')\n",
    "df"
   ]
  },
  {
   "cell_type": "markdown",
   "id": "b5a4449d-c145-474a-baef-dd0fad9d2523",
   "metadata": {},
   "source": [
    "# Operations Using Numpy"
   ]
  },
  {
   "cell_type": "code",
   "execution_count": 6,
   "id": "790b66d8-8dd7-4b27-a7f7-6e6ddd4a7fe5",
   "metadata": {},
   "outputs": [],
   "source": [
    "order_ids = np.array(df['Order ID'])\n",
    "sales = np.array(df['Sales'])\n",
    "profit = np.array(df['Profit'])\n",
    "city = np.array(df['City'])\n",
    "discount = np.array(df['Discount'])"
   ]
  },
  {
   "cell_type": "markdown",
   "id": "3293ca58-05ec-451c-ae0e-58cd09301ac5",
   "metadata": {},
   "source": [
    "# 1)Find the maximum Sales value .\n",
    "\n"
   ]
  },
  {
   "cell_type": "code",
   "execution_count": 7,
   "id": "819e286d-a2c5-4967-a866-7dfd6629572e",
   "metadata": {},
   "outputs": [
    {
     "name": "stdout",
     "output_type": "stream",
     "text": [
      "maximum Sales value =  2360\n"
     ]
    }
   ],
   "source": [
    "max_sales = np.max(sales)\n",
    "print(\"maximum Sales value = \",max_sales)\n",
    "                   "
   ]
  },
  {
   "cell_type": "markdown",
   "id": "c9a77946-e77e-49e7-8129-e290f0b1cae9",
   "metadata": {},
   "source": [
    "# 2)Find the count of orders where the Discount is greater than 0.2"
   ]
  },
  {
   "cell_type": "code",
   "execution_count": 8,
   "id": "ebad6176-8b3b-416f-9153-2ee3113c8c53",
   "metadata": {},
   "outputs": [
    {
     "name": "stdout",
     "output_type": "stream",
     "text": [
      "16\n"
     ]
    }
   ],
   "source": [
    "sum = np.sum(discount>0.2)\n",
    "print(sum)"
   ]
  },
  {
   "cell_type": "markdown",
   "id": "1366f710-8143-4cc2-b0b2-34b6eac95d1e",
   "metadata": {},
   "source": [
    "# 3)Find the Order ID corresponding to the maximum Profit "
   ]
  },
  {
   "cell_type": "code",
   "execution_count": 9,
   "id": "42880635-8ada-4469-8ee7-b747b376e523",
   "metadata": {},
   "outputs": [
    {
     "name": "stdout",
     "output_type": "stream",
     "text": [
      "OD1\n"
     ]
    }
   ],
   "source": [
    "max_profit_indx = np.argmax(\"Profit\")\n",
    "print(order_ids[max_profit_indx])"
   ]
  },
  {
   "cell_type": "markdown",
   "id": "aa027ae2-df43-4e2c-9e3d-e2b9246033c4",
   "metadata": {},
   "source": [
    "# 4)Find how many orders had Sales greater than the average Sales "
   ]
  },
  {
   "cell_type": "code",
   "execution_count": 10,
   "id": "d513c4a2-20bd-4e55-8a38-0bc460698b2e",
   "metadata": {},
   "outputs": [
    {
     "name": "stdout",
     "output_type": "stream",
     "text": [
      "12\n"
     ]
    }
   ],
   "source": [
    "count= np.sum(sales>np.mean(sales))\n",
    "print(count)"
   ]
  },
  {
   "cell_type": "markdown",
   "id": "60241892-5f44-4230-bdd0-35ab99d84a0c",
   "metadata": {},
   "source": [
    "# 5)Find the total Sales for orders where Profit is above the mean Profit"
   ]
  },
  {
   "cell_type": "code",
   "execution_count": 11,
   "id": "729ec471-0613-47e7-9bca-21842152ea7c",
   "metadata": {},
   "outputs": [
    {
     "name": "stdout",
     "output_type": "stream",
     "text": [
      "18312\n"
     ]
    }
   ],
   "source": [
    "sales_above_mean_profit = sales[profit>np.mean(profit)]\n",
    "print(np.sum(sales_above_mean_profit))"
   ]
  },
  {
   "cell_type": "markdown",
   "id": "fa05b428-00fb-41fd-a73c-1fec700bd8f8",
   "metadata": {},
   "source": [
    "# 6)Find the number of unique Cities present "
   ]
  },
  {
   "cell_type": "code",
   "execution_count": 12,
   "id": "46cd00b8-ac77-4135-bfbc-018e274cefb3",
   "metadata": {},
   "outputs": [
    {
     "name": "stdout",
     "output_type": "stream",
     "text": [
      "16\n"
     ]
    }
   ],
   "source": [
    "city_unique = np.unique(city)\n",
    "print(len(city_unique))"
   ]
  },
  {
   "cell_type": "markdown",
   "id": "6ee1b72c-4ac7-4720-a0f1-82a927c19b3e",
   "metadata": {},
   "source": [
    "# 7)Sort all Sales in descending order and get the top 10 Sales values."
   ]
  },
  {
   "cell_type": "code",
   "execution_count": 13,
   "id": "3e01beeb-513a-46fe-bed1-6ddb3fd1f075",
   "metadata": {},
   "outputs": [
    {
     "name": "stdout",
     "output_type": "stream",
     "text": [
      "[2360 2355 2305 2022 1903 1847 1795 1757 1678 1659]\n"
     ]
    }
   ],
   "source": [
    "sorted_sale = np.sort(sales)[::-1]\n",
    "top10 = sorted_sale[:10]\n",
    "print(top10)\n",
    "\n"
   ]
  },
  {
   "cell_type": "markdown",
   "id": "c605c2d2-c2e3-4054-a43d-525ae5e9e45c",
   "metadata": {},
   "source": [
    "# 8)Find the average Discount"
   ]
  },
  {
   "cell_type": "code",
   "execution_count": 14,
   "id": "d25fbff0-86d1-4f9e-b11f-ac982382c07a",
   "metadata": {},
   "outputs": [
    {
     "name": "stdout",
     "output_type": "stream",
     "text": [
      "Average Discount : 0.2160714285714286\n"
     ]
    }
   ],
   "source": [
    "print(\"Average Discount :\", np.mean(discount))"
   ]
  },
  {
   "cell_type": "markdown",
   "id": "9c288224-e458-484a-afc4-85685eb99e34",
   "metadata": {},
   "source": [
    "# 9)Find the number of Orders from the City \"Chennai\""
   ]
  },
  {
   "cell_type": "code",
   "execution_count": 15,
   "id": "b31e29e3-ef19-4a4f-99b3-88636023ba1f",
   "metadata": {},
   "outputs": [
    {
     "name": "stdout",
     "output_type": "stream",
     "text": [
      "Orders from Chennai: 1\n"
     ]
    }
   ],
   "source": [
    "orders_chennai = np.sum(city == 'Chennai')\n",
    "print(\"Orders from Chennai:\", orders_chennai)\n"
   ]
  },
  {
   "cell_type": "markdown",
   "id": "f1707967-ace9-47f3-b96e-79d92e1f595d",
   "metadata": {},
   "source": [
    "# 10) Identify the Order with the Highest Profit Margin"
   ]
  },
  {
   "cell_type": "code",
   "execution_count": 16,
   "id": "b1d58d6f-85a9-449a-b20e-98d59a61fa33",
   "metadata": {},
   "outputs": [
    {
     "name": "stdout",
     "output_type": "stream",
     "text": [
      "0.45\n"
     ]
    }
   ],
   "source": [
    "profit_margin = profit / sales\n",
    "max_margin_indx = np.argmax(profit_margin)\n",
    "print(profit_margin[max_margin_indx])\n",
    "\n",
    "\n",
    "\n"
   ]
  },
  {
   "cell_type": "code",
   "execution_count": 1,
   "id": "83a56d22-f55c-4eeb-b4c4-e2739294b98a",
   "metadata": {},
   "outputs": [],
   "source": [
    "# Operations using Pandas"
   ]
  },
  {
   "cell_type": "markdown",
   "id": "d0e96a83-ac6b-4b9f-8b42-66e2356cc97e",
   "metadata": {},
   "source": [
    "# 11) Find the total Sales per City"
   ]
  },
  {
   "cell_type": "code",
   "execution_count": 17,
   "id": "38117111-1a0b-4403-8452-2b9c68356a74",
   "metadata": {},
   "outputs": [
    {
     "name": "stdout",
     "output_type": "stream",
     "text": [
      "City\n",
      "Bodi              1617\n",
      "Chennai           1795\n",
      "Dharmapuri        4879\n",
      "Dindigul          1659\n",
      "Kanyakumari       2800\n",
      "Karur             2851\n",
      "Krishnagiri       2896\n",
      "Namakkal           701\n",
      "Ooty              3455\n",
      "Perambalur        2360\n",
      "Ramanadhapuram    1847\n",
      "Tenkasi           2726\n",
      "Tirunelveli       2813\n",
      "Trichy            1367\n",
      "Vellore           1776\n",
      "Viluppuram         979\n",
      "Name: Sales, dtype: int64\n"
     ]
    }
   ],
   "source": [
    "sales_per_city = df.groupby('City')['Sales'].sum()\n",
    "print(sales_per_city)"
   ]
  },
  {
   "cell_type": "markdown",
   "id": "d5a358e9-ccb8-41b7-9b09-4a06bf5796c2",
   "metadata": {},
   "source": [
    "# 12) Find the City with the highest total Profit"
   ]
  },
  {
   "cell_type": "code",
   "execution_count": 18,
   "id": "6b8472a8-22ff-4513-9f21-44e5b8f1a0a5",
   "metadata": {},
   "outputs": [
    {
     "name": "stdout",
     "output_type": "stream",
     "text": [
      "Tirunelveli\n"
     ]
    }
   ],
   "source": [
    "profit_per_city = df.groupby('City')['Profit'].sum()\n",
    "city_idx = np.argmax(profit_per_city)\n",
    "print(city[city_idx])"
   ]
  },
  {
   "cell_type": "markdown",
   "id": "012a6edc-ae97-47f1-b403-907d88a73840",
   "metadata": {},
   "source": [
    "# 13)Find the sum of Profits for each Sub-Category"
   ]
  },
  {
   "cell_type": "code",
   "execution_count": 19,
   "id": "20f44002-68f6-42e2-b27d-f100d2570d11",
   "metadata": {},
   "outputs": [
    {
     "name": "stdout",
     "output_type": "stream",
     "text": [
      "Sub Category\n",
      "Atta & Flour           165.20\n",
      "Biscuits               583.32\n",
      "Cakes                  803.47\n",
      "Chicken                207.75\n",
      "Chocolates             639.89\n",
      "Cookies                358.49\n",
      "Dals & Pulses           47.40\n",
      "Edible Oil & Ghee      100.80\n",
      "Eggs                   803.44\n",
      "Fresh Fruits           147.76\n",
      "Fresh Vegetables       500.37\n",
      "Health Drinks          471.79\n",
      "Masalas                401.28\n",
      "Mutton                 386.54\n",
      "Organic Staples       1241.15\n",
      "Organic Vegetables      77.52\n",
      "Soft Drinks            307.63\n",
      "Name: Profit, dtype: float64\n"
     ]
    }
   ],
   "source": [
    "profit_subcat = df.groupby('Sub Category')[\"Profit\"].sum()\n",
    "print(profit_subcat)"
   ]
  },
  {
   "cell_type": "markdown",
   "id": "04b01cda-2ce1-42d6-af95-ecdb1bc70591",
   "metadata": {},
   "source": [
    "# 14) Find customers who got more than 500 profit.\n"
   ]
  },
  {
   "cell_type": "code",
   "execution_count": 20,
   "id": "4077eb80-fd43-41f0-8d25-6aeafa5f70dd",
   "metadata": {},
   "outputs": [
    {
     "name": "stdout",
     "output_type": "stream",
     "text": [
      "['Ridhesh']\n"
     ]
    }
   ],
   "source": [
    "high_profit_cust = df[df['Profit'] > 500]['Customer Name'].unique()\n",
    "print(high_profit_cust)"
   ]
  },
  {
   "cell_type": "markdown",
   "id": "4915e7ef-bd12-4755-a491-c6ba87c1fdc9",
   "metadata": {},
   "source": [
    "# 15) Find sub_category with highest average sales"
   ]
  },
  {
   "cell_type": "code",
   "execution_count": 21,
   "id": "193726fb-09ec-4411-bc4b-186f21d52c96",
   "metadata": {},
   "outputs": [
    {
     "name": "stdout",
     "output_type": "stream",
     "text": [
      "Atta & Flour\n"
     ]
    }
   ],
   "source": [
    "highavg_sales_sub = (df.groupby('Sub Category')['Sales'].mean()).idxmax()\n",
    "print(highavg_sales_sub)"
   ]
  },
  {
   "cell_type": "markdown",
   "id": "0da31ee3-0f35-4ad7-8794-a35afa96248a",
   "metadata": {},
   "source": [
    "# 16). Find the total profit for each region."
   ]
  },
  {
   "cell_type": "code",
   "execution_count": 22,
   "id": "c5da4706-0fc5-4544-bb7b-248a4391d01b",
   "metadata": {},
   "outputs": [
    {
     "name": "stdout",
     "output_type": "stream",
     "text": [
      "Region\n",
      "Central     823.24\n",
      "East        478.91\n",
      "North       401.28\n",
      "South      1473.06\n",
      "West       4067.31\n",
      "Name: Profit, dtype: float64\n"
     ]
    }
   ],
   "source": [
    "total_profit_region = df.groupby('Region')['Profit'].sum()\n",
    "print(total_profit_region)\n"
   ]
  },
  {
   "cell_type": "markdown",
   "id": "6de0cf08-d54d-46f9-87a2-c2f0b811d072",
   "metadata": {},
   "source": [
    "# 17)Find total sales and total profit for each customer"
   ]
  },
  {
   "cell_type": "code",
   "execution_count": 23,
   "id": "12bf1c3c-4348-4913-b870-758f3148b103",
   "metadata": {},
   "outputs": [
    {
     "name": "stdout",
     "output_type": "stream",
     "text": [
      "               Sales  Profit\n",
      "Customer Name               \n",
      "Adavan          2305  322.70\n",
      "Alan            3595  443.74\n",
      "Arutra          1617  113.19\n",
      "Ganesh          1903  437.69\n",
      "Hafiz           3160  538.49\n",
      "Harish          1254  401.28\n",
      "Haseena         2464  535.01\n",
      "Hussain         2360  165.20\n",
      "Jackson         1875  490.99\n",
      "Jonas            826  346.92\n",
      "Krithika        3817  686.85\n",
      "Muneer           541   43.28\n",
      "Peer            1277   63.85\n",
      "Ramesh          1440  100.80\n",
      "Ridhesh         2355  918.45\n",
      "Sharon          2759  810.21\n",
      "Sudha            749  149.80\n",
      "Sundar           831  207.75\n",
      "Verma            692  159.16\n",
      "Yadav            701  308.44\n"
     ]
    }
   ],
   "source": [
    "per_customer = df.groupby('Customer Name')[['Sales', 'Profit']].sum()\n",
    "print(per_customer)\n"
   ]
  },
  {
   "cell_type": "markdown",
   "id": "2affcc5d-b174-4e9d-94d9-7ce0bf56aad3",
   "metadata": {},
   "source": [
    "# 18)Find total discount given in each city.\n",
    "\n"
   ]
  },
  {
   "cell_type": "code",
   "execution_count": 24,
   "id": "e94c9277-1aca-45b1-ab91-3cf5f30b1e20",
   "metadata": {},
   "outputs": [
    {
     "name": "stdout",
     "output_type": "stream",
     "text": [
      "City\n",
      "Bodi              0.19\n",
      "Chennai           0.27\n",
      "Dharmapuri        0.79\n",
      "Dindigul          0.19\n",
      "Kanyakumari       0.76\n",
      "Karur             0.26\n",
      "Krishnagiri       0.63\n",
      "Namakkal          0.10\n",
      "Ooty              0.37\n",
      "Perambalur        0.21\n",
      "Ramanadhapuram    0.32\n",
      "Tenkasi           0.64\n",
      "Tirunelveli       0.34\n",
      "Trichy            0.45\n",
      "Vellore           0.31\n",
      "Viluppuram        0.22\n",
      "Name: Discount, dtype: float64\n"
     ]
    }
   ],
   "source": [
    "total_discount_city = df.groupby('City')['Discount'].sum()\n",
    "print(total_discount_city)\n"
   ]
  },
  {
   "cell_type": "markdown",
   "id": "85c84d47-5d43-4a8c-8282-6fa8453a8166",
   "metadata": {},
   "source": [
    "# 19)Find the customer who placed orders from the city Chennai.\n",
    "\n"
   ]
  },
  {
   "cell_type": "code",
   "execution_count": 29,
   "id": "0148c5fd-239f-4394-928a-f185aaa99ce0",
   "metadata": {},
   "outputs": [
    {
     "name": "stdout",
     "output_type": "stream",
     "text": [
      "['Krithika']\n"
     ]
    }
   ],
   "source": [
    "chennai_customers = df[df['City'] == 'Chennai']['Customer Name'].unique()\n",
    "print(chennai_customers)\n"
   ]
  },
  {
   "cell_type": "markdown",
   "id": "d407288f-00bb-4b42-9ffd-aad46b971cfd",
   "metadata": {},
   "source": [
    "# 20)List all regions where total sales are more than 3000\n"
   ]
  },
  {
   "cell_type": "code",
   "execution_count": 31,
   "id": "e46f405a-1f40-4545-8939-42b4658f30da",
   "metadata": {},
   "outputs": [
    {
     "name": "stdout",
     "output_type": "stream",
     "text": [
      "Region\n",
      "Central     5604\n",
      "South       5659\n",
      "West       22056\n",
      "Name: Sales, dtype: int64\n"
     ]
    }
   ],
   "source": [
    "regions_sales = df.groupby('Region')['Sales'].sum()\n",
    "print(regions_sales[regions_sales > 3000])\n"
   ]
  },
  {
   "cell_type": "code",
   "execution_count": null,
   "id": "9b10b528-f3af-4d52-9ab9-75f80cc03d69",
   "metadata": {},
   "outputs": [],
   "source": []
  },
  {
   "cell_type": "code",
   "execution_count": null,
   "id": "1f35e258-5727-4363-a97d-072d7406d3f6",
   "metadata": {},
   "outputs": [],
   "source": []
  },
  {
   "cell_type": "code",
   "execution_count": null,
   "id": "8f18af7e-2599-405b-8ae7-d336212e19b4",
   "metadata": {},
   "outputs": [],
   "source": []
  },
  {
   "cell_type": "code",
   "execution_count": null,
   "id": "4b3df3ae-f40c-47d9-9668-23aa9691e636",
   "metadata": {},
   "outputs": [],
   "source": []
  }
 ],
 "metadata": {
  "kernelspec": {
   "display_name": "Python 3 (ipykernel)",
   "language": "python",
   "name": "python3"
  },
  "language_info": {
   "codemirror_mode": {
    "name": "ipython",
    "version": 3
   },
   "file_extension": ".py",
   "mimetype": "text/x-python",
   "name": "python",
   "nbconvert_exporter": "python",
   "pygments_lexer": "ipython3",
   "version": "3.13.1"
  }
 },
 "nbformat": 4,
 "nbformat_minor": 5
}
